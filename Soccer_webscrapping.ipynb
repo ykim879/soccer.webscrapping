{
  "nbformat": 4,
  "nbformat_minor": 0,
  "metadata": {
    "colab": {
      "name": "Soccer_webscrapping",
      "provenance": [],
      "authorship_tag": "ABX9TyPXd7F+Ue5crodkS+cKGEmR",
      "include_colab_link": true
    },
    "kernelspec": {
      "name": "python3",
      "display_name": "Python 3"
    }
  },
  "cells": [
    {
      "cell_type": "markdown",
      "metadata": {
        "id": "view-in-github",
        "colab_type": "text"
      },
      "source": [
        "<a href=\"https://colab.research.google.com/github/ykim879/soccer.webscrapping/blob/master/Soccer_webscrapping.ipynb\" target=\"_parent\"><img src=\"https://colab.research.google.com/assets/colab-badge.svg\" alt=\"Open In Colab\"/></a>"
      ]
    },
    {
      "cell_type": "code",
      "metadata": {
        "id": "t3B83Y3mfK65",
        "colab_type": "code",
        "colab": {}
      },
      "source": [
        "import requests\n",
        "from bs4 import BeautifulSoup"
      ],
      "execution_count": null,
      "outputs": []
    },
    {
      "cell_type": "code",
      "metadata": {
        "id": "xOOU3GxcfWIr",
        "colab_type": "code",
        "colab": {}
      },
      "source": [
        "request = requests.get(\"https://www.soccerbase.com/players/home.sd\")"
      ],
      "execution_count": null,
      "outputs": []
    }
  ]
}