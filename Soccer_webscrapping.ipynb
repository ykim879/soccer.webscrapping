{
  "nbformat": 4,
  "nbformat_minor": 0,
  "metadata": {
    "colab": {
      "name": "Soccer_webscrapping",
      "provenance": [],
      "include_colab_link": true
    },
    "kernelspec": {
      "name": "python3",
      "display_name": "Python 3"
    }
  },
  "cells": [
    {
      "cell_type": "markdown",
      "metadata": {
        "id": "view-in-github",
        "colab_type": "text"
      },
      "source": [
        "<a href=\"https://colab.research.google.com/github/ykim879/soccer.webscrapping/blob/master/Soccer_webscrapping.ipynb\" target=\"_parent\"><img src=\"https://colab.research.google.com/assets/colab-badge.svg\" alt=\"Open In Colab\"/></a>"
      ]
    },
    {
      "cell_type": "code",
      "metadata": {
        "id": "t3B83Y3mfK65",
        "colab_type": "code",
        "colab": {}
      },
      "source": [
        "import requests\n",
        "from bs4 import BeautifulSoup\n",
        "import re\n",
        "baseURL = 'https://www.soccerbase.com'"
      ],
      "execution_count": 66,
      "outputs": []
    },
    {
      "cell_type": "code",
      "metadata": {
        "id": "xOOU3GxcfWIr",
        "colab_type": "code",
        "colab": {
          "base_uri": "https://localhost:8080/",
          "height": 145
        },
        "outputId": "6a27d362-ab36-4660-ab43-ca9eb647c442"
      },
      "source": [
        "request = requests.get(\"https://www.soccerbase.com/players/home.sd\")\n",
        "soup = BeautifulSoup(request.content, \"lxml\")\n",
        "testing = soup.find('div', id = 'players-menu')#attrs = {'class': 'soccerColumn soccerColumnLast'})\n",
        "for div in testing.find_all('div', class_ = 'soccerColumn'):\n",
        "  t = re.search('Region', div.text)\n",
        "  \n",
        "  print(t)\n",
        "  if (t == None):\n",
        "    print('Heck no')\n",
        "    #print(div)\n",
        "#for li in testing.find_all('ol'):\n",
        "#  print(li)"
      ],
      "execution_count": 71,
      "outputs": [
        {
          "output_type": "stream",
          "text": [
            "<_sre.SRE_Match object; span=(0, 6), match='Region'>\n",
            "None\n",
            "Heck no\n",
            "None\n",
            "Heck no\n",
            "None\n",
            "Heck no\n"
          ],
          "name": "stdout"
        }
      ]
    },
    {
      "cell_type": "code",
      "metadata": {
        "id": "BrC27b6bsLv4",
        "colab_type": "code",
        "colab": {}
      },
      "source": [
        "#Decorator hopefully\n",
        "import time\n",
        "def timer(func):\n",
        "  def timeIt(*args, **kwargs):\n",
        "    start = time.time()\n",
        "    func(*args, **kwargs)\n",
        "    print(f'{time.time() - start:0.2f}', 'seconds to run.')\n",
        "  return timeIt"
      ],
      "execution_count": 46,
      "outputs": []
    },
    {
      "cell_type": "code",
      "metadata": {
        "id": "sFctYk2ikh12",
        "colab_type": "code",
        "colab": {}
      },
      "source": [
        "#From player page for a team\n",
        "def getTeamData(team, url, q):\n",
        "  names = [team]\n",
        "  request = requests.get(url)\n",
        "  soup = BeautifulSoup(request.content, \"lxml\")\n",
        "  test = soup.find('ul', attrs={'class':'infoList infoListBullet infoListLeftPadding infoListRightPadding'})\n",
        "  for elem in test.find_all('b'):\n",
        "    name = elem.find('a')\n",
        "    names.append(name.text)\n",
        "  #return names\n",
        "  q.put(names)"
      ],
      "execution_count": 37,
      "outputs": []
    },
    {
      "cell_type": "code",
      "metadata": {
        "id": "TtEvSKy5mch4",
        "colab_type": "code",
        "colab": {}
      },
      "source": [
        "#From competition page of teams\n",
        "import threading\n",
        "import queue\n",
        "@timer\n",
        "def readTeamPage():\n",
        "  request = requests.get(\"https://www.soccerbase.com/tournaments/tournament.sd?comp_id=1\")\n",
        "  soup = BeautifulSoup(request.content, \"lxml\")\n",
        "  teamNames = soup.find('table', class_ = 'table')\n",
        "  teams = {}\n",
        "  threads = []\n",
        "  q = queue.Queue()\n",
        "\n",
        "  for num, url in enumerate(teamNames.find_all('a'), 1):\n",
        "    #print(num, url['href'])\n",
        "    #t = threading.Thread(target = getTeamData, args = (url.text, baseURL + url['href'], q))\n",
        "    #threads.append(t)\n",
        "    #t.start()\n",
        "    #print(url.text)\n",
        "    getTeamData(url.text, baseURL+url['href'], q)\n",
        "    #print(getTeamData(baseURL + url['href']))\n",
        "  #print(num)\n",
        "  for t in threads:\n",
        "    t.join()\n",
        "  while not q.empty():\n",
        "    teamData = q.get()\n",
        "    teams[teamData[0]] = teamData[1:]\n",
        "\n",
        "  print(teams)\n",
        "  '''\n",
        "  for team, players in teams.items():\n",
        "    print(\"TEAM:\", team, end = '\\nPLAYERS: ')\n",
        "    print(*players, sep=', ')\n",
        "    print()\n",
        "'''"
      ],
      "execution_count": 72,
      "outputs": []
    },
    {
      "cell_type": "code",
      "metadata": {
        "id": "NzNRum7SpIT1",
        "colab_type": "code",
        "colab": {
          "base_uri": "https://localhost:8080/",
          "height": 74
        },
        "outputId": "21ed4930-3ef6-40ef-9da8-65077f2f2a81"
      },
      "source": [
        "readTeamPage()"
      ],
      "execution_count": 73,
      "outputs": [
        {
          "output_type": "stream",
          "text": [
            "{'Arsenal': ['Bernd Leno', 'Emiliano Martinez', 'Matt Macey', 'Deyan Iliev', 'Danny Ballard', 'Jordi Osei-Tutu', 'Hector Bellerin', 'Kieran Tierney', 'William Saliba', 'Sokratis', 'Rob Holding', 'Cedric Soares', 'Shkodran Mustafi', 'Calum Chambers', 'Pablo Mari', 'David Luiz', 'Saed Kolasinac', 'Tolaji Bola', 'Ben Sheaf', 'Bukayo Saka', 'Mesut Ozil', 'Lucas Torreira', 'Ainsley Maitland-Niles', 'Mohamed Elneny', 'Joe Willock', 'Matteo Guendouzi', 'Emile Smith Rowe', 'Granit Xhaka', 'Robbie Burton', 'James Olayinka', 'Alexandre Lacazette', 'Willian', 'Pierre-Emerick Aubameyang', 'Nicolas Pepe', 'Reiss Nelson', 'Eddie Nketiah', 'Gabriel Martinelli', 'Folarin Balogun', 'Tyreece John-Jules'], 'Aston Villa': ['Tom Heaton', 'Jed Steer', 'Orjan Haskjold Nyland', 'Lovre Kalinic', 'Neil Taylor', 'Ezri Konsa', 'James Bree', 'Matt Targett', 'Bjorn Engels', 'Frederic Guilbert', 'Ahmed Elmohamady', 'Kortney Hause', 'Dominic Revan', 'Tyrone Mings', 'Myles Sohna', 'Ben Chrisene', 'Douglas Luiz', 'John McGinn', 'Henri Lansbury', 'Jack Grealish', 'Marvelous Nakamba', 'Conor Hourihane', 'Trezeguet', 'Anwar El Ghazi', 'Jota', 'Jacob Ramsey', 'Jaden Philogene-Bidace', 'Kaine Hayden', 'Carney Chukwuemeka', 'Louie Barry', 'Scott Hogan', 'Wesley', 'Mbwana Samatta', 'Indiana Vassilev', 'Keinan Davis', 'Cameron Archer', 'Aaron Pressley'], 'Brighton': ['Christian Walton', 'Mathew Ryan', 'Jason Steele', 'David Button', 'Robert Sanchez', 'Matthew Clarke', 'Ben White', 'Tariq Lamptey', 'Shane Duffy', 'Lewis Dunk', 'Adam Webster', 'Martin Montoya', 'Tudor Baluta', 'Bernardo', 'Dan Burn', 'Joel Veltman', 'Leo Skiri Ostigard', 'Hayden Roberts', 'Billy Arce', 'Jensen Weir', 'Dale Stephens', 'Yves Bissouma', 'Alexis Mac Allister', 'Pascal Gross', 'Adam Lallana', 'Aaron Mooy', 'Solly March', 'Davy Propper', 'Soufyan Ahannach', 'Max Sanders', 'Taylor Richards', 'Steven Alzate', 'Andrew Crofts', 'Jayson Molumby', 'Alex Cochrane', 'Jordan Davies', 'Peter Gwargis', 'Ryan Longman', 'Jack Spong', 'Teddy Jenks', 'Todd Miller', 'Florin Andone', 'Jurgen Locadia', 'Neal Maupay', 'Leandro Trossard', 'Alireza Jahanbakhsh', 'Glenn Murray', 'Jose Heriberto Izquierdo', 'Viktor Gyokeres', 'Aaron Connolly', 'Romaric Yapi'], 'Burnley': ['Will Norris', 'Nick Pope', 'Bailey Peacock-Farrell', 'Lukas Jensen', 'Matthew Lowton', 'Charlie Taylor', 'James Tarkowski', 'Ben Mee', 'Ben Gibson', 'Erik Pieters', 'Phil Bardsley', 'Kevin Long', 'Jimmy Dunne', 'Bobby Thomas', 'Ali Koiki', 'Anthony Driscoll-Glennon', \"Aiden O'Neill\", 'Jack Cork', 'Johann Berg Gudmundsson', 'Josh Brownhill', 'Dwight McNeil', 'Robbie Brady', 'Ashley R Westwood', 'Lewis Richardson', 'Josh Benson', 'Mace Goodridge', 'Rob Harker', 'Chris Wood', 'Ashley Barnes', 'Jay Rodriguez', 'Matej Vydra', 'Max Thompson', 'Joel Mumbongo'], 'Chelsea': ['Nathan Baxter', 'Jamal Blackman', 'Kepa', 'Wilfredo Caballero', 'Karlo Ziger', 'Jake Clarke-Salter', 'Cristian Cuevas', 'Marc Guehi', 'Matt Miazga', 'Baba Rahman', 'Dynel Simeu', 'Dujon Sterling', 'Davide Zappacosta', 'Antonio Rudiger', 'Marcos Alonso', 'Andreas Christensen', 'Kurt Zouma', 'Reece James', 'Cesar Azpilicueta', 'Fikayo Tomori', 'Emerson', 'Ian Maatsen', 'Lewis Baker', 'Charly Musonda', 'Conor Gallagher', 'Henry Lawrence', 'Jacob Maddox', 'Luke McCormick', 'Nathan', 'Hakim Ziyech', 'Marco van Ginkel', 'Jorginho', 'Danny Drinkwater', \"N'Golo Kante\", 'Ross Barkley', 'Ruben Loftus-Cheek', 'Tiemoue Bakayoko', 'Kenedy', 'Mateo Kovacic', 'Mason Mount', 'Christian Pulisic', 'George McEachran', 'Billy Gilmour', 'Faustino Anjorin', 'Lewis Bate', 'Lucas Piazon', 'Timo Werner', 'Tammy Abraham', 'Olivier Giroud', 'Callum Hudson-Odoi', 'Michy Batshuayi', 'Armando Broja'], 'Crystal Palace': ['Stephen Henderson', 'Wayne Hennessey', 'Vincente Guaita', 'Nathan Ferguson', 'Joel Ward', 'Patrick van Aanholt', 'James Tomkins', 'Scott Dann', 'Mamadou Sakho', 'Gary Cahill', 'Martin Kelly', 'Sam Woods', 'Nikola Tavares', 'Tyrick Mitchell', 'Scott Banks', 'Luke Dreher', 'Tariq Ossai', 'Luka Milivojevic', 'Max Meyer', 'Cheikhou Kouyate', 'Andros Townsend', 'Jeffrey Schlupp', 'James McArthur', 'James McCarthy', 'Nya Kirby', 'Giovanni McGregor', 'Jairo Riedewald', 'Alexander Sorloth', 'Jordan Ayew', 'Wilfried Zaha', 'Christian Benteke', 'Connor Wickham', 'Brandon Pierrick', 'John-Kymani Gordon'], 'Everton': ['Jordan Pickford', 'Joao Virginia', 'Jonas Lossl', 'Michael Collins', 'Callum Connolly', 'Lewis Gibson', 'Niels Nkounkou', 'Mason Holgate', 'Michael Keane', 'Lucas Digne', 'Yerry Mina', 'Seamus Coleman', 'Jarrad Branthwaite', 'Matthew Pennington', 'Jonjoe Kenny', 'Muhamed Besic', 'Josh Bowler', 'Nathan Broadhead', 'Fabian Delph', 'Gylfi Sigurdsson', 'Andre Gomes', 'Jean-Philippe Gbamin', 'Tom Davies', 'Beni Baningime', 'Dennis Adeniran', 'Yannick Bolasie', 'Sandro Ramirez', 'Shani Tarashaj', 'Richarlison', 'Dominic Calvert-Lewin', 'Theo Walcott', 'Cenk Tosun', 'Alex Iwobi', 'Bernard', 'Moise Kean', 'Anthony Gordon', 'Ellis Simms'], 'Fulham': ['Marcus Bettinelli', 'Marek Rodak', 'Jordan Archer', 'Fabri', 'Luca Ashby-Hammond', 'Antonee Robinson', 'Michael Hector', 'Denis Odoi', 'Alfie Mawson', 'Tim Ream', 'Maxime Le Marchand', 'Cyrus Christie', 'Joe Bryan', 'Marlon Fossey', 'Jerome Opoku', 'Steven Sessegnon', 'Moritz Jenz', 'Jean Seri', 'Andre Zambo Anguissa', 'Kevin McDonald', 'Neeskens Kebano', 'Stefan Johansen', 'Tom Cairney', 'Anthony Knockaert', 'Josh Onomah', 'Franck Zambo', \"Matt O'Riley\", 'Tyrese Francois', 'Benjamin Davis', 'Martell Taylor-Crossdale', 'Aleksandar Mitrovic', 'Bobby Reid', 'Ivan Cavaleiro', 'Jayden Harris', 'Aboubakar Kamara', 'Sylvester Jasper', 'Jay Stansfield'], 'Leeds': ['Illan Meslier', 'Casilla', 'Elia Caprile', 'Kamil Miazek', 'Cody Drameh', 'Luke Ayling', 'Barry Douglas', 'Liam Cooper', 'Pascal Struijk', 'Leif Davis', 'Bryce Hosanah', 'Robbie Gotts', 'Oliver Casey', 'Ouasim Bouy', 'Josh Galloway', 'Callum Nicell', 'Adam Forshaw', 'Ezgjan Alioski', 'Tyler Roberts', 'Stuart Dallas', 'Pablo Hernandez', 'Jack Harrison', 'Kalvin Phillips', 'Conor Shaughnessy', 'Alfie McCalmont', 'Mat Klich', 'Mateusz Bogusz', 'Liam McCarron', 'Jamie Shackleton', 'Jordan Stevens', 'Charlie Allen', 'Jay-Roy Grot', 'Kun Temenuzhkov', 'Ian Poveda', 'Patrick Bamford', 'Helder Costa', 'Joe Gelhardt'], 'Leicester': ['Kasper Schmeichel', 'Danny Ward', 'Eldin Jakupovic', 'Mitch Clark', 'Sam Hughes', 'Josh Knight', 'James Justin', 'Ben Chilwell', 'Caglar Soyuncu', 'Wes Morgan', 'Jonny Evans', 'Filip Benkovic', 'Daniel Amartey', 'Ricardo Pereira', 'Christian Fuchs', 'Darnell Johnson', 'Vontae Daley-Campbell', 'Luke Thomas', 'Ethan Fitzhugh', 'Andy King', 'Demarai Gray', 'Youri Tielemans', 'James Maddison', 'Marc Albrighton', 'Harvey Barnes', 'Hamza Choudhury', 'Matthew James', 'Adrien Silva', 'Onyinye Ndidi', 'Dennis Praet', 'Rachid Ghezzal', 'Thakgalo Leshabela', 'Callum Wright', 'Kieran Dewsbury-Hall', 'Sidnei Tavares', 'Adam Leathers', 'Terell Pennant', 'Admiral Muskwe', 'Layton Ndukwu', 'Jamie Vardy', 'Islam Slimani', 'Kelechi Iheanacho', 'Ayoze Perez', 'Fousseni Diabate', 'George Hirst', 'Will Russ'], 'Liverpool': ['Kamil Grabara', 'Loris Karius', 'Alisson', 'Adrian', 'Caoimhin Kelleher', 'Ben Winterbottom', 'Vitezslav Jaros', 'Virgil van Dijk', 'Joe Gomez', 'Kostas Tsimikas', 'Andrew Robertson', 'Joel Matip', 'Nathaniel Phillips', 'Ki-Jana Hoever', 'Tony Gallacher', 'Thomas Clayton', 'Trent Alex-Arnold', 'Yasser Larouci', 'Sepp van den Berg', 'Neco Williams', 'Billy Koumetio', 'James Norris', 'Allan', 'Fabinho', 'Georginio Wijnaldum', 'James Milner', 'Naby Keita', 'Jordan Henderson', 'Alex Oxlade-Chamberlain', 'Marko Grujic', 'Curtis Jones', 'Xherdan Shaqiri', 'Ovie Ejaria', 'Sheyi Ojo', 'Herbie Kane', 'Harry Wilson', 'Harvey Elliott', 'Elijah Dixon-Bonner', 'Luis Longstaff', 'Jake Cain', 'Leighton Clarkson', 'Taiwo Awoniyi', 'Paul Glatzel', 'R Firmino', 'Sadio Mane', 'Mohamed Salah', 'Takumi Minamino', 'Rhian Brewster', 'Divock Origi', 'Liam Millar', 'Joe Hardy', 'Ben Woodburn', 'Jack Bearne', 'Layton Stewart', 'Thomas Hill'], 'Man City': ['Claudio Bravo', 'Zack Steffen', 'Ederson Moraes', 'Daniel Grimshaw', 'Arijanet Muric', 'Gavin Bazunu', 'Nathan Ake', 'Ko Itakura', 'Joel Latibeaudiere', 'Erik Palmer-Brown', 'Philippe Sandler', 'Kyle Walker', 'John Stones', 'Oleksandr Zinchenko', 'Aymeric Laporte', 'Benjamin Mendy', 'Joao Cancelo', 'Nicolas Otamendi', 'Eric Garcia', 'Tosin Adarabioyo', 'Nathanael Ogbeta', 'Taylor Harwood-Bellis', 'Alpha Richard Dionkou', 'Thomas Agyepong', 'Aleix Garcia Serrano', 'Claudio Gomes', 'Yangel Herrera', 'Matt Smith', 'Ante Palaversa', 'Patrick Roberts', 'Ilkay Gundogan', 'Rodri', 'Kevin De Bruyne', 'Bernardo Silva', 'Fernandinho', 'Phil Foden', 'Benjamin Garre', 'Felix Nmecha', 'Iker Pozo', 'Tommy Doyle', 'Cole Palmer', 'Adrian Bernabe', 'Ben Knight', 'Thierry Ambrose', 'Marlos Moreno', 'Ferran Torres', 'Nabili Zoubdi Touaizi', 'Raheem Sterling', 'Gabriel Jesus', 'Sergio Aguero', 'Riyad Mahrez'], 'Man Utd': ['Dean Henderson', 'David de Gea', 'Lee Grant', 'Sergio Romero', 'Nathan Bishop', 'Joel Pereira', 'Matej Kovar', 'Victor Lindelof', 'Eric Bailly', 'Phil Jones', 'Harry Maguire', 'Marcos Rojo', 'Diogo Dalot', 'Luke Shaw', 'Timothy Fosu-Mensah', 'Aaron Wan-Bissaka', 'Axel Tuanzebe', 'Ethan Laird', 'Max Taylor', 'Brandon Williams', \"Di'Shon Bernard\", 'Teden Mengi', 'Paul Pogba', 'Juan Mata', 'Jesse Lingard', 'Andreas Pereira', 'Fred', 'Bruno Fernandes', 'Daniel James', 'Nemanja Matic', 'James Garner', 'Scott McTominay', 'Arnau Puigmal Martinez', 'Ethan Galbraith', 'Dylan Levitt', 'Anthony Martial', 'Marcus Rashford', 'Odion Ighalo', 'Mason Greenwood', \"D'Mani Bughail-Mellor\", 'Largie Ramazani'], 'Newcastle': ['Mark Gillespie', 'Peter Keen', 'Martin Dubravka', 'Karl Darlow', 'Achraf Lazaar', \"Stefan O'Connor\", 'Ciaran Clark', 'Paul Dummett', 'Fabian Schar', 'Jamaal Lascelles', 'Emil Krafth', 'Federico Fernandez', 'Javi Manquillo', 'Florian Lejeune', 'DeAndre Yedlin', 'Lewis Cass', 'Dan Barlaser', 'Liam Smith', 'Jacob Murphy', 'Henri Saivet', 'Jonjo Shelvey', 'Matt Ritchie', 'Isaac Hayden', 'Rolando Aarons', 'Miguel Almiron', 'Christian Atsu', 'Sean Longstaff', 'Matthew Longstaff', 'Owen Bailey', 'Kelland Watts', 'Jack Young', 'Andy Carroll', 'Joelinton', 'Allan Saint-Maximin', 'Dwight Gayle', 'Yoshinori Muto', 'Elias Sorensen'], 'Sheff Utd': ['Marcus Dewhurst', 'Wesley Foderingham', 'Aaron Ramsdale', 'Michael Verrips', 'Simon Moore', 'Jake Bennett', 'Jake Wright', 'George Baldock', 'Enda Stevens', \"Jack O'Connell\", 'Chris Basham', 'John Egan', 'Jack Robinson', 'Kean Bryan', 'Rhys Norrington-Davies', 'George Cantrill', 'Regan Slater', 'John Fleck', 'John Lundstram', 'Luke Freeman', 'Oliver Norwood', 'Ben Osborn', 'Sander Berge', 'Stephen Mallon', 'Oli McBurnie', 'Billy Sharp', 'Callum Robinson', 'David McGoldrick', 'Lys Mousset', 'David Parkhouse'], 'Southampton': ['Kingsley Latham', 'Alex McCarthy', 'Angus Gunn', 'Harry Lewis', 'Fraser Forster', 'Tommy Scott', 'Mohammed Salisu', 'Kyle Walker-Peters', 'Jannik Vestergaard', 'Jack Stephens', 'Wesley Hoedt', 'Ryan Bertrand', 'Jake Vokins', 'Kayne Ramsay', 'Alfie Jones', 'Jan Bednarek', 'Yan Valery', 'Sam McQueen', 'Harrison Reed', 'Moussa Djenepo', 'Oriol Romeu', 'James Ward-Prowse', 'Stuart Armstrong', 'Mario Lemina', 'Sofiane Boufal', 'Nathan Redmond', 'Will Smallbone', 'Callum Slattery', 'Joshua Sims', 'Jake Hesketh', 'Alexandre Jankewitz', 'Shane Long', 'Danny Ings', 'Che Adams', 'Michael Obafemi', 'Guido Carrillo', \"Daniel N'Lundulu\", 'Will Ferry', 'Nathan Tella'], 'Tottenham': ['Joe Hart', 'Tom Glover', 'Hugo Lloris', 'Paulo Gazzaniga', 'Alfie Whiteman', 'Brandon Austin', 'Jonathan De Bie', 'Danny Rose', 'Toby Alderweireld', 'Davison Sanchez', 'Juan Foyth', 'Serge Aurier', 'Ben Davies', 'Cameron Carter-Vickers', 'Japhet Tanganga', 'Jonathan Dinzeyi', 'Brooklyn Lyons-Foster', 'Malachi Walcott', 'Dennis Cirkin', 'Anthony Georgiou', 'Marcus Edwards', 'George Marsh', 'Jack Roles', 'Shilow Tracey', 'Pierre Hojbjerg', 'Harry Winks', 'Erik Lamela', 'Eric Dier', 'Moussa Sissoko', 'Giovani Lo Celso', 'Ryan Sessegnon', 'Dele Alli', 'Tanguy NDombele', 'Jamie Bowden', 'Harvey White', 'Paris Maghoma', 'Jack Clarke', 'Kazaiah Sterling', 'Heung-Min Son', 'Harry Kane', 'Steven Bergwijn', 'Lucas Moura', 'Kion Etete'], 'West Brom': ['Alex Palmer', 'Sam Johnstone', 'Darnell Furlong', 'Kieran Gibbs', 'Kyle Bartley', 'Semi Ajayi', 'Conor Townsend', 'Ahmed Hegazy', \"Dara O'Shea\", 'Saul Shotton', 'Jake Livermore', 'Matt Phillips', 'Kamil Grosicki', 'Rekeem Harper', 'Oliver Burke', 'Romaine Sawyers', 'Jonathan Leko', 'Sam Field', 'Rakeem Harper', 'Rico Richards', 'Callum Morton', 'Morgan Rogers', 'Hal Robson-Kanu', 'Kenneth Zohore', 'Matheus Pereira', 'Charlie Austin', 'Kyle Edwards', 'Rayhaan Tulloch'], 'West Ham': ['Nathan Trott', 'Lukasz Fabianski', 'Roberto', 'David Martin', 'Darren Randolph', 'Joseph Anang', 'Alex Pike', 'Aaron Cresswell', 'Fabian Balbuena', 'Goncalo Cardoso', 'Angelo Ogbonna', 'Issa Diop', 'Ryan Fredericks', 'Arthur Masuaku', 'Ben Johnson', 'Conor Coventry', 'Dan Kemp', 'Felipe Anderson', 'Manuel Lanzini', 'Robert Snodgrass', 'Mark Noble', 'Pablo Fornals', 'Jack Wilshere', 'Tomas Soucek', 'Josh Cullen', 'Nathan Holland', 'Alfie Lewis', 'Declan Rice', 'Bernardo Costa Da Rosa', 'Grady Diangana', 'Oladapo Afolayan', 'Andriy Yarmolenko', 'Jordan Hugill', 'Jarrod Bowen', 'Sebastian Haller', 'Michail Antonio', 'Xande Silva', 'Mesaque Dju'], 'Wolves': ['Rory Brown', 'Matija Sarkic', 'Rui Patricio', 'John Ruddy', 'Andreas Sondergaard', 'Sylvain Deslandes', 'Cameron John', 'Luke Matheson', 'Roderick Miranda', 'Matt Doherty', 'Ryan Bennett', 'Willy Boly', 'Conor Coady', 'Jonny', 'Dion Sanderson', 'Ruben Vinagre', 'Max Kilman', 'Ed Francis', 'Oskar Buur', 'Flavio Cristovao', 'Christian Marques', 'Lewis Richards', 'Pedro Pereira', 'Bruno Jordao', 'Ruben Neves', 'Daniel Podence', 'Morgan Gibbs-White', 'Diogo Jota', 'Taylor Perry', 'Romain Saiss', 'Joao Moutinho', 'Leander Dendoncker', 'Ryan Giles', 'Terry Taylor', 'Nathaniel Shio Hong Wan', 'Owen Otasowie', 'Meritan Shabani', 'Tsun Dai-Wai', 'Luke Cundle', 'Chem Campbell', 'Bernard Ashley-Seal', 'Theo Corbeanu', 'Patrick Cutrone', 'Renat Dadashov', 'Niall Ennis', 'Bright Enobakhare', 'Rafa Mir', 'Pedro Neto', 'Raul Jimenez', 'Leonardo Campana', 'Leo Bonatini', 'Adama Traore', 'Austin Samuels']}\n",
            "12.21 seconds to run.\n"
          ],
          "name": "stdout"
        }
      ]
    },
    {
      "cell_type": "code",
      "metadata": {
        "id": "3EOvdzP1tIcm",
        "colab_type": "code",
        "colab": {}
      },
      "source": [
        ""
      ],
      "execution_count": null,
      "outputs": []
    }
  ]
}