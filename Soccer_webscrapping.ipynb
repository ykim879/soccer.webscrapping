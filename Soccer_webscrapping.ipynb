{
  "nbformat": 4,
  "nbformat_minor": 0,
  "metadata": {
    "colab": {
      "name": "Soccer_webscrapping",
      "provenance": [],
      "authorship_tag": "ABX9TyOCHhlFcG4KZ8iPeCdn7t7y",
      "include_colab_link": true
    },
    "kernelspec": {
      "name": "python3",
      "display_name": "Python 3"
    }
  },
  "cells": [
    {
      "cell_type": "markdown",
      "metadata": {
        "id": "view-in-github",
        "colab_type": "text"
      },
      "source": [
        "<a href=\"https://colab.research.google.com/github/ykim879/soccer.webscrapping/blob/master/Soccer_webscrapping.ipynb\" target=\"_parent\"><img src=\"https://colab.research.google.com/assets/colab-badge.svg\" alt=\"Open In Colab\"/></a>"
      ]
    },
    {
      "cell_type": "code",
      "metadata": {
        "id": "t3B83Y3mfK65",
        "colab_type": "code",
        "colab": {}
      },
      "source": [
        "import requests\n",
        "from bs4 import BeautifulSoup\n",
        "import pandas as pd"
      ],
      "execution_count": 3,
      "outputs": []
    },
    {
      "cell_type": "code",
      "metadata": {
        "id": "xOOU3GxcfWIr",
        "colab_type": "code",
        "colab": {}
      },
      "source": [
        "request = requests.get(\"https://www.soccerbase.com/players/home.sd\")"
      ],
      "execution_count": null,
      "outputs": []
    },
    {
      "cell_type": "code",
      "metadata": {
        "id": "1-NQuMaIn1v6",
        "colab_type": "code",
        "colab": {
          "base_uri": "https://localhost:8080/",
          "height": 680
        },
        "outputId": "46ba2adb-2fd5-49da-b827-4a7d883acf56"
      },
      "source": [
        "request = requests.get(\"https://www.soccerbase.com/teams/team.sd?team_id=142\")\n",
        "soup = BeautifulSoup(request.content, \"lxml\")\n",
        "test = soup.find('ul', attrs={'class':'infoList infoListBullet infoListLeftPadding infoListRightPadding'})\n",
        "for elem in test.find_all('b'):\n",
        "  name = elem.find('a')\n",
        "  print(name.text)"
      ],
      "execution_count": 4,
      "outputs": [
        {
          "output_type": "stream",
          "text": [
            "Bernd Leno\n",
            "Emiliano Martinez\n",
            "Matt Macey\n",
            "Deyan Iliev\n",
            "Danny Ballard\n",
            "Jordi Osei-Tutu\n",
            "Hector Bellerin\n",
            "Kieran Tierney\n",
            "William Saliba\n",
            "Sokratis\n",
            "Rob Holding\n",
            "Cedric Soares\n",
            "Shkodran Mustafi\n",
            "Calum Chambers\n",
            "Pablo Mari\n",
            "David Luiz\n",
            "Saed Kolasinac\n",
            "Tolaji Bola\n",
            "Ben Sheaf\n",
            "Bukayo Saka\n",
            "Mesut Ozil\n",
            "Lucas Torreira\n",
            "Ainsley Maitland-Niles\n",
            "Mohamed Elneny\n",
            "Joe Willock\n",
            "Matteo Guendouzi\n",
            "Emile Smith Rowe\n",
            "Granit Xhaka\n",
            "Robbie Burton\n",
            "James Olayinka\n",
            "Alexandre Lacazette\n",
            "Willian\n",
            "Pierre-Emerick Aubameyang\n",
            "Nicolas Pepe\n",
            "Reiss Nelson\n",
            "Eddie Nketiah\n",
            "Gabriel Martinelli\n",
            "Folarin Balogun\n",
            "Tyreece John-Jules\n"
          ],
          "name": "stdout"
        }
      ]
    }
  ]
}