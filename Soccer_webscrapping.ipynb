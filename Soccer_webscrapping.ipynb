{
  "nbformat": 4,
  "nbformat_minor": 0,
  "metadata": {
    "colab": {
      "name": "Soccer_webscrapping",
      "provenance": [],
      "include_colab_link": true
    },
    "kernelspec": {
      "name": "python3",
      "display_name": "Python 3"
    }
  },
  "cells": [
    {
      "cell_type": "markdown",
      "metadata": {
        "id": "view-in-github",
        "colab_type": "text"
      },
      "source": [
        "<a href=\"https://colab.research.google.com/github/ykim879/soccer.webscrapping/blob/master/Soccer_webscrapping.ipynb\" target=\"_parent\"><img src=\"https://colab.research.google.com/assets/colab-badge.svg\" alt=\"Open In Colab\"/></a>"
      ]
    },
    {
      "cell_type": "code",
      "metadata": {
        "id": "t3B83Y3mfK65",
        "colab_type": "code",
        "colab": {}
      },
      "source": [
        "import requests\n",
        "from bs4 import BeautifulSoup\n",
        "import re\n",
        "baseURL = 'https://www.soccerbase.com'"
      ],
      "execution_count": null,
      "outputs": []
    },
    {
      "cell_type": "code",
      "metadata": {
        "id": "xOOU3GxcfWIr",
        "colab_type": "code",
        "colab": {
          "base_uri": "https://localhost:8080/",
          "height": 493
        },
        "outputId": "79e0bba1-6694-41de-bc13-734f54dc8d3f"
      },
      "source": [
        "request = requests.get(\"https://www.soccerbase.com/players/home.sd\")\n",
        "soup = BeautifulSoup(request.content, \"lxml\")\n",
        "testing = soup.find('div', id = 'players-menu')#attrs = {'class': 'soccerColumn soccerColumnLast'})\n",
        "for div in testing.find_all('div', class_ = 'soccerColumn'):\n",
        "  if (re.search('Competition', div.text) != None):\n",
        "    comp = div\n",
        "threads = []\n",
        "compQ = queue.Queue()\n",
        "for num, competition in enumerate(comp.find_all('a'), 1):\n",
        "  t = threading.Thread(target = readCompetitionPage, args = (competition.text, baseURL + competition['href'], compQ))\n",
        "  threads.append(t)\n",
        "  t.start()\n",
        "  #print(num, baseURL + competition['href'])\n",
        "  #print(competition.text)\n",
        "for t in threads:\n",
        "  t.join()\n",
        "counter = 1\n",
        "while not compQ.empty():\n",
        "  print(counter, compQ.get()[0])\n",
        "  counter += 1\n",
        "#for li in testing.find_all('ol'):\n",
        "#  print(li)"
      ],
      "execution_count": null,
      "outputs": [
        {
          "output_type": "stream",
          "text": [
            "1 /tournaments/tournament.sd?comp_id=1\n",
            "2 /tournaments/tournament.sd?comp_id=2\n",
            "3 /tournaments/tournament.sd?comp_id=3\n",
            "4 /tournaments/tournament.sd?comp_id=4\n",
            "5 /tournaments/tournament.sd?comp_id=12\n",
            "6 /tournaments/tournament.sd?comp_id=13\n",
            "7 /tournaments/tournament.sd?comp_id=14\n",
            "8 /tournaments/tournament.sd?comp_id=15\n",
            "9 /tournaments/tournament.sd?comp_id=66\n",
            "10 /tournaments/tournament.sd?comp_id=64\n",
            "11 /tournaments/tournament.sd?comp_id=19\n",
            "12 /tournaments/tournament.sd?comp_id=20\n",
            "13 /tournaments/tournament.sd?comp_id=21\n",
            "14 /tournaments/tournament.sd?comp_id=22\n",
            "15 /tournaments/tournament.sd?comp_id=116\n",
            "16 /tournaments/tournament.sd?comp_id=25\n",
            "17 /tournaments/tournament.sd?comp_id=112\n",
            "18 /tournaments/tournament.sd?comp_id=23\n",
            "19 /tournaments/tournament.sd?comp_id=114\n",
            "20 /tournaments/tournament.sd?comp_id=76\n",
            "21 /tournaments/tournament.sd?comp_id=206\n",
            "22 /tournaments/tournament.sd?comp_id=124\n",
            "23 /tournaments/tournament.sd?comp_id=24\n",
            "24 /tournaments/tournament.sd?comp_id=111\n",
            "25 /tournaments/tournament.sd?comp_id=194\n",
            "26 /tournaments/tournament.sd?comp_id=205\n",
            "27 /tournaments/tournament.sd?comp_id=122\n",
            "28 /tournaments/tournament.sd?comp_id=113\n"
          ],
          "name": "stdout"
        }
      ]
    },
    {
      "cell_type": "code",
      "metadata": {
        "id": "BrC27b6bsLv4",
        "colab_type": "code",
        "colab": {}
      },
      "source": [
        "#Decorator hopefully\n",
        "import time\n",
        "def timer(func):\n",
        "  def timeIt(*args, **kwargs):\n",
        "    start = time.time()\n",
        "    func(*args, **kwargs)\n",
        "    print(f'{time.time() - start:0.2f}', 'seconds to run.')\n",
        "  return timeIt"
      ],
      "execution_count": null,
      "outputs": []
    },
    {
      "cell_type": "code",
      "metadata": {
        "id": "sFctYk2ikh12",
        "colab_type": "code",
        "colab": {}
      },
      "source": [
        "#From player page for a team\n",
        "def getTeamData(team, url, q):\n",
        "  names = [team]\n",
        "  request = requests.get(url)\n",
        "  soup = BeautifulSoup(request.content, \"lxml\")\n",
        "  test = soup.find('ul', attrs={'class':'infoList infoListBullet infoListLeftPadding infoListRightPadding'})\n",
        "  for elem in test.find_all('b'):\n",
        "    name = elem.find('a')\n",
        "    names.append(name.text)\n",
        "  #return names\n",
        "  q.put(names)"
      ],
      "execution_count": null,
      "outputs": []
    },
    {
      "cell_type": "markdown",
      "metadata": {
        "id": "J-1MxqVBFe3s",
        "colab_type": "text"
      },
      "source": [
        "#From competition page of teams\n",
        "## seasons: dataframe consisted of each season value with the season date"
      ]
    },
    {
      "cell_type": "code",
      "metadata": {
        "id": "TtEvSKy5mch4",
        "colab_type": "code",
        "colab": {}
      },
      "source": [
        "import threading\n",
        "import queue\n",
        "@timer\n",
        "def readCompetitionPage(compURL):\n",
        "  request = requests.get(compURL)\n",
        "  soup = BeautifulSoup(request.content, \"lxml\")\n",
        "  seasons = tournament_season_selector(soup)\n",
        "  print(seasons)\n",
        "  teamNames = soup.find('table', class_ = 'table')\n",
        "  teams = {}\n",
        "  threads = []\n",
        "  q = queue.Queue()\n",
        "\n",
        "  for num, url in enumerate(teamNames.find_all('a'), 1):\n",
        "    #print(num, url['href'])\n",
        "    t = threading.Thread(target = getTeamData, args = (url.text, baseURL + url['href'], q))\n",
        "    threads.append(t)\n",
        "    t.start()\n",
        "    #print(url.text)\n",
        "    #getTeamData(url.text, baseURL+url['href'], q)\n",
        "    #print(getTeamData(baseURL + url['href']))\n",
        "  #print(num)\n",
        "  for t in threads:\n",
        "    t.join()\n",
        "  while not q.empty():\n",
        "    teamData = q.get()\n",
        "    teams[teamData[0]] = teamData[1:]\n",
        "\n",
        "  print(teams)\n",
        "  '''\n",
        "  for team, players in teams.items():\n",
        "    print(\"TEAM:\", team, end = '\\nPLAYERS: ')\n",
        "    print(*players, sep=', ')\n",
        "    print()\n",
        "'''"
      ],
      "execution_count": null,
      "outputs": []
    },
    {
      "cell_type": "code",
      "metadata": {
        "id": "NzNRum7SpIT1",
        "colab_type": "code",
        "colab": {
          "base_uri": "https://localhost:8080/",
          "height": 1000
        },
        "outputId": "d7a66e1c-ea6a-4cb9-f69a-37fb12efcb32"
      },
      "source": [
        "readCompetitionPage('https://www.soccerbase.com/tournaments/tournament.sd?comp_id=20')"
      ],
      "execution_count": null,
      "outputs": [
        {
          "output_type": "stream",
          "text": [
            "   value     date\n",
            "0   1792  2020/21\n",
            "1   1725  2019/20\n",
            "2   1668  2018/19\n",
            "3   1597  2017/18\n",
            "4   1511  2016/17\n",
            "5   1462  2015/16\n",
            "6   1395  2014/15\n",
            "7   1316  2013/14\n",
            "8   1172  2012/13\n",
            "9   1007  2011/12\n",
            "10    45  2010/11\n",
            "11    46  2009/10\n",
            "12   321  2008/09\n",
            "13   322  2007/08\n",
            "14   323  2006/07\n",
            "15   324  2005/06\n",
            "16   325  2004/05\n",
            "17   326  2003/04\n",
            "18   327  2002/03\n",
            "19   328  2001/02\n",
            "20   329  2000/01\n",
            "21   330  1999/00\n",
            "22   331  1998/99\n",
            "23   332  1997/98\n",
            "24   333  1996/97\n",
            "25   334  1995/96\n",
            "26   335  1994/95\n",
            "27   336  1993/94\n",
            "28   337  1992/93\n",
            "29   338  1991/92\n",
            "30   339  1990/91\n",
            "31   340  1989/90\n",
            "32   341  1988/89\n",
            "33   342  1987/88\n",
            "34   343  1986/87\n",
            "35   344  1985/86\n",
            "36   345  1984/85\n",
            "37   346  1983/84\n",
            "38   347  1982/83\n",
            "39   348  1981/82\n",
            "40   349  1980/81\n",
            "41   350  1979/80\n",
            "42   351  1978/79\n",
            "43   352  1977/78\n",
            "44   353  1976/77\n",
            "45   354  1975/76\n",
            "46   355  1974/75\n",
            "47   356  1973/74\n",
            "48   357  1972/73\n",
            "49   358  1971/72\n",
            "50   359  1970/71\n",
            "51   360  1969/70\n",
            "52   361  1968/69\n",
            "53   362  1967/68\n",
            "54   363  1966/67\n",
            "55   364  1965/66\n",
            "56   365  1964/65\n",
            "57   366  1963/64\n",
            "{'RB Leipzig': ['Josep Martinez', 'Peter Gulacsi', 'Yvon Mvogo', 'Tim Schreiber', 'Philipp Tschauner', 'Angelino', 'Benjamin Henrichs', 'Willi Orban', 'Dayot Upamecano', 'Ibrahima Konate', 'Lukas Klostermann', 'Nordi Mukiele', 'Marcel Halstenberg', 'Luan Candido', 'Mads Bidstrup', 'Eric Martel', 'Marcel Sabitzer', 'Amadou Haidara', 'Tyler Adams', 'Christopher Nkunku', 'Dani Olmo', 'Ethan Ampadu', 'Konrad Laimer', 'Fabrice Hartmann', 'Kevin Kampl', 'Joscha Wosz', 'Tom Krauss', 'Hee-Chan Hwang', 'Yussuf Poulsen', 'Emil Forsberg', 'Patrik Schick', 'Ademola Lookman', 'Jean-Kevin Augustin', 'Hugo Novoa', 'Dennis Borkowski'], 'B Leverkusen': ['Lukas Hradecky', 'Lennart Grill', 'Ramazan Ozcan', 'Niklas Lomb', 'Tomasz Kucz', 'Panagiotis Retsos', 'Jonathan Tah', 'Sven Bender', 'Aleksandar Dragovic', 'Lars Bender', 'Edmond Faycial Tapsoba', 'Tin Jedvaj', 'Wendell', 'Daley Sinkgraven', 'Mitchell Weiser', 'Jan Boller', 'Fabian Ruth', 'Kerem Demirbay', 'Nadiem Amiri', 'Julian Baumgartlinger', 'Charles Aranguiz', 'Exequiel Palacios', 'Florian Wirtz', 'Kai Havertz', 'Adrian Stanilewicz', 'Ayman Azhil', 'Herdi Bukusu', 'Paulinho', 'Leon Bailey', 'Lucas Alario', 'Joel Pohjanpalo', 'Moussa Diaby', 'Kevin Volland', 'Karim Bellarabi', 'Florian Wirtz'], 'Schalke': ['Ralf Fahrmann', 'Markus Schubert', 'Michael Langer', 'Pablo Insua', 'Hamza Mendyl', 'Juan Miranda', 'Ozan Kabak', 'Matija Nastasic', 'Benjamin Stambouli', 'Sascha Riether', 'Jean-Clair Todibo', 'Bastian Oczipka', 'Salif Sane', 'Timo Becker', 'Malick Thiaw', 'Jason Ceka', 'Berkan Firat', 'Sandro Plechaty', 'Weston McKennie', 'Omar Mascarell', 'Suat Serdar', 'Nabil Bentaleb', 'Sebastian Rudy', 'Nassim Boujellab', 'Amine Harit', 'Alessandro Schopf', 'Nick Taitague', 'Munir Mercan', 'Can Bozdogan', 'Jonas Hofmann', 'Mark Uth', 'Benito Raman', 'Rabbi Matondo', 'Ahmed Kutucu', 'Guido Burgstaller', 'Steven Skrzybski'], 'Hertha Berlin': ['Thomas Kraft', 'Alexander Schwolow', 'Nils-Jonathan Korber', 'Rune Jarstein', 'Luis Klatte', 'Florian Palmowski', 'Peter Pekarik', 'Karim Rekik', 'Niklas Stark', 'Lukas Klunter', 'Maximilian Mittelstadt', 'Dedryck Boyata', 'Marvin Plattenhardt', 'Jordan Torunarigha', 'Marton Dardai', 'Luca Netz', 'Omar Rekik', 'Florian Baak', 'Deyovaisio Zeefuik', 'Vladimir Darida', 'Salomon Kalou', 'Alexander Esswein', 'Ondrej Duda', 'Matthew Leckie', 'Javairo Dilrosun', 'Santiago Ascacibar', 'Arne Maier', 'Eduard Lowen', 'Lucas Tousart', 'Maurice Covic', 'Julian Albrecht', 'Lazar Samardzic', 'Krzysztof Piatek', 'Matheus Cunha', 'Pascal Kopke', 'Vedad Ibisevic', 'Pal Dardai', 'Jessic Ngankam', 'Dodi Lukebakio', 'Daishawn Redan', 'Muhammed Kiprit'], 'Stuttgart': ['Gregor Kobel', 'Jens Grahl', 'Fabian Bredlow', 'Waldemar Anton', 'Marc-Oliver Kempf', 'Konstantinos Mavropanos', 'Pascal Stenzel', 'Maxime Awoudja', 'Borna Sosa', 'Antonis Aidonis', 'Holger Badstuber', 'Ailton Ferreira', 'Marcin Kaminski', 'Luca Mack', 'David Grozinger', 'Tobias Werner', 'Wataru Endo', 'Clinton Mola', 'Tanguy Coulibaly', 'Gonzalo Castro', 'Daniel Didavi', 'Erik Thommy', 'Atakan Karazor', 'Darko Churlinov', 'Philipp Forster', 'Philipp Klement', 'Orel Mangala', 'Lilian Egloff', 'Alkhaly Momo Cisse', 'Joel Sonora', 'Roberto Massimo', 'Mateo Klimowicz', 'Sasa Kalajdzic', 'Silas Wamangituka Fundu', 'Hamadi Al Ghaddioui', 'Nicolas Gonzalez', 'Mario Gomez'], 'W Bremen': ['Jiri Pavlenka', 'Stephanos Kapinos', 'Luca Plogmann', 'Ludwig Augustinsson', 'Milos Veljkovic', 'Sebastian Langkamp', 'Felix Agu', 'Niklas Moisander', 'Omer Toprak', 'Theo Gebre Selassie', 'Marco Friedl', 'Christian Gross', 'Thore Jacobsen', 'Niklas Wiemann', 'Tahith Chong', 'Johan Mina', 'Oscar Schonfelder', 'Kevin Mohwald', 'Milot Rashica', 'Leonardo Bittencourt', 'Ole Kauper', 'Nuri Sahin', 'Romano Schmid', 'Simon Straudi', 'Ilia Gruev', 'Patrick Erras', 'Davy Klaassen', 'David Philipp', 'Julian Rieckmann', 'Jean Manuel Mbom', 'Maximilian Eggestein', 'Niklas Schmidt', 'Philipp Bargfrede', 'Yuya Osako', 'Martin Harnik', 'Davie Selke', 'Niclas Fullkrug', 'Claudio Pizarro', 'Joshua Sargent', 'Johannes Eggestein', 'Luc Ihorst', 'Nick Woltemade'], 'Wolfsburg': ['Koen Casteels', 'Pavao Pervan', 'Niklas Klinger', 'Lino Kasten', 'Phillip Menzel', 'Michael Edwards', 'William', 'Jeffrey Bruma', 'Paulo Otavio', 'Jerome Roussillon', 'Kevin Mbabu', 'John Brooks', 'Marcel Tisserand', 'Marin Pongracic', 'Tim Siersleben', 'Ignacio Camacho', 'Renato Steffen', 'Yanus Malli', 'Felix Klaus', 'Admir Mehmedi', 'Luca Horn', 'Josua Guilavogui', 'Xaver Schlager', 'Ulysses Llanez Jr', 'Maximilian Arnold', 'Yannick Gerhardt', 'Ismail Azzaoui', 'Joao Victor Santos Sa', 'Julian Justvan', 'Iba May', 'Bartosz Bialek', 'Josip Brekalo', 'Wout Weghorst', 'John Yeboah', 'Omar Marmoush', 'Daniel Ginczek'], 'Freiburg': ['Benjamin Uphoff', 'Mark Flekken', 'Niclas Thiede', 'Philipp Lienhart', 'Manuel Gulde', 'Lukas Kubler', 'Mohamed Drager', 'Dominique Heintz', 'Gian-Luca Itter', 'Robin Koch', 'Christian Gunter', 'Keven Schlotterbeck', 'Jerome Gondorf', 'Amir Abrashi', 'Jonathan Schmid', 'Mike Frantz', 'Yoric Ravet', 'Janik Haberer', 'Brandon Borrello', 'Roland Sallai', 'Nicolas Hofler', 'Kwon Chang-Hoon', 'Jeong Woo-Yeong', 'Vicenzo Grifo', 'Lino Tempelmann', 'Yannik Keitel', 'Florian Kath', 'Fabian Rudlin', 'Lucas Holer', 'Ermedin Demirovic', 'Luca Waldschmidt', 'Marco Terrazzino', 'Nils Petersen'], \"B M'gladbach\": ['Yann Sommer', 'Tobias Sippel', 'Max Grun', 'Jan Olschowsky', 'Michael Lang', 'Mamadou Doucoure', 'Oscar Wendt', 'Stefan Lainer', 'Tony Jantschke', 'Rami Bensebaini', 'Matthias Ginter', 'Nico Elvedi', 'Kaan Kurt', 'Andreas Poulsen', 'Jacob Italiano', 'Christoph Kramer', 'Denis Zakaria', 'Hannes Wolf', 'Lars Stindl', 'Fabian Johnson', 'Valentino Lazaro', 'Laszlo Benes', 'Jonas Hofmann', 'Torben Musel', 'Famana Quizera', 'Florian Neuhaus', 'Conor Noss', 'Aaron Herzog', 'Patrick Herrmann', 'Marcus Thuram', 'Raffael', 'Alassane Plea', 'Ibrahima Traore', 'Julio Villalba', 'Breel Embolo', 'Keanan Bennetts'], 'Augsburg': ['Rafal Gikiewicz', 'Fabian Giefer', 'Tomas Koubek', 'Benjamin Leneis', 'Stefan Lichtsteiner', 'Mads Pedersen', 'Felix Gotze', 'Marek Suchy', 'Jeffrey Gouweleeuw', 'Jozo Stanic', 'Felix Uduokhai', 'Iago', 'Simon Asta', 'Philipp Max', 'Raphael Framberger', 'Kevin Danso', 'Tim Civeja', 'Rani Khedira', 'Daniel Baier', 'Jan Moravek', 'Ruben Vargas', 'Noah Joel Sarenren Bazee', 'Daniel Caligiuri', 'Marco Richter', 'Fredrik Jensen', 'Carlos Gruezo', 'Andre Hahn', 'Felix Schwarzholz', 'Tobias Strobl', 'Georg Teigl', 'Reece Oxford', 'Stefano Russo', 'Dorian Cevis', 'Romario Rosch', 'Florian Niederlechner', 'Michael Gregoritsch', 'Julian Schieber', 'Alfred Finnbogason', 'Seong-Hoon Cheon', 'Maurice Malone'], 'Mainz': ['Florian Muller', 'Robin Zentner', 'Omer Hanin', 'Finn Dahmen', 'Marius Liesegang', 'Aaron Martin', 'Jeremiah St. Juste', 'Dimitri Lavelee', 'Luca Kilian', 'Stefan Bell', 'Jonathan Meier', 'Daniel Brosinski', 'Moussa Niakhate', 'Philipp Mwene', 'Ahmet Gurleyen', 'Niklas Kolle', 'Alexander Hack', 'Jean-Paul Boetius', 'Danny Latza', 'Levin Oztunali', 'Alexandru Maxim', 'Pierre Malong', 'Edimilson Fernandes', 'Bote Baku', 'Leandro Barreiro Martins', 'Erkan Eyibil', 'Gerrit Holtmann', 'Robin Quaison', 'Jean-Philippe Mateta', 'Ji Dong-Won', 'Karim Onisiwo', 'Issah Abass', 'Adam Szalai', 'Jonathan Burkardt', 'Jonathan Burkhardt', 'Cyrill Akono', 'Aaron Seydel'], 'Cologne': ['Timo Horn', 'Ron-Robert Zieler', 'Thomas Kessler', 'Julian Krahl', 'Sven Bacher', 'Joao Queiros', 'Benno Schmitz', 'Rafael Czichos', 'Dominic Maroh', 'Ismail Jakobs', 'Jonas Hector', 'Kingsley Ehizibue', 'Jorge Mere', 'James Horn', 'Sebastiaan Bornauw', 'Noah Katterbach', 'Robert Voloder', 'Jens Castrop', 'Marco Hoger', 'Marcel Risse', 'Kingsley Schindler', 'Christian Clemens', 'Elvis Rexhbecaj', 'Vincent Koziello', 'Salih Ozcan', 'Dominick Drexler', 'Tim Lemperle', 'Ellyes Skhiri', 'Jan Thielmann', 'Florian Kainz', 'Matthias Lehmann', 'Artjoms Rudnevs', 'Simon Terodde', 'Louis Schaub', 'Jhon Cordoba', 'Anthony Modeste'], 'E Frankfurt': ['Kevin Trapp', 'Felix Wiedwald', 'Frederik Ronnow', 'Jan Zimmermann', 'Elias Bordner', 'Obite Ndicka', 'Martin Hinteregger', 'Jetro Willems', 'Almamy Toure', 'David Abraham', 'Makoto Hasebe', 'Marco Russ', 'Danny da Costa', 'Erik Durm', 'Yannick Brugger', 'Rodrigo Zalazar', 'Stefan Ilsanker', 'Gelson Fernandes', 'Jonathan de Guzman', 'Djibril Sow', 'Filip Kostic', 'Steven Zuber', 'Daichi Kamada', 'Sebastian Rode', 'Timothy Chandler', 'Nils Stendera', 'Aymane Barkok', 'Dominik Kohr', 'Sahverdi Cetin', 'Lukas Fahrnberger', 'Patrick Finger', 'Marijan Cavar', 'Dejan Joveljic', 'Bas Dost', 'Ragnar Ache', 'Andre Silva', 'Jabez Maleko', 'Goncalo Paciencia'], 'Union Berlin': ['Leo Oppermann', 'Andreas Luthe', 'Jakub Busk Jensen', 'Lennart Moser', 'Moritz Nicolas', 'Robin Knoche', 'Neven Subotic', 'Nico Schlotterbeck', 'Marvin Friedrich', 'Julian Ryerson', 'Ken Reichel', 'Nicolai Rapp', 'Florian Hubner', 'Niko Giebelmann', 'Christopher Lenz', 'Lars Dietz', 'Lennard Maloney', 'Keita Endo', 'Akaki Gogia', 'Joshua Mees', 'Laurenz Dehl', 'Florian Flecker', 'Grischa Promel', 'Felix Kroos', 'Manuel Schmiedebach', 'Julius Kade', 'Michael Parensen', 'Robert Andrich', 'Berkan Taz', 'Sebastian Griesbeck', 'Christian Gentner', 'Maurice Opfermann', 'Sebastian Andersson', 'Max Kruse', 'Anthony Ujah', 'Marius Bulter', 'Suleiman Abdullahi', 'Sheraldo Becker', 'Christopher Trimmel', 'Marcus Ingvartsen', 'Cedric Teuchert'], 'Hoffenheim': ['Domen Gril', 'Oliver Baumann', 'Philipp Pentke', 'Michael Esser', 'Alexander Stolz', 'Luca Philipp', 'Joshua Brenet', 'Pavel Kaderabek', 'Ermin Bicakcic', 'Kostas Stafylidis', 'Havard Nordtveit', 'Kasim Adams', 'Benjamin Hubner', 'Kevin Vogt', 'Kevin Akpoguma', 'Lucas Ribeiro', 'Melayro Bogarde', 'Stefan Posch', 'Amid Khan Agha', 'Bruno Nazario', 'Lukas Rupp', 'Dennis Geiger', 'Florian Grillitsch', 'Christoph Baumgartner', 'Diadie Samassekou', 'Mijat Gacinovic', 'Ilay Eliyau Elmkies', 'Franko Kovacevic', 'Jacob Bruun Larsen', 'Ihlas Bebou', 'Munas Dabour', 'Ishak Belfodil', 'Sargis Adamyan', 'Andrej Kramaric', 'Robert Skov', 'Klauss', 'Maximilian Beier', 'Chinedu Ekene'], 'B Munich': ['Alexander Nubel', 'Manuel Neuer', 'Sven Ulreich', 'Christian Fruchtl', 'Ron Thorben Hoffmann', 'Alvaro Odriozola', 'Bright Arrey-Mbi', 'Nianzou Kouassi', 'Angelo Mayer', 'Alexander Nitzl', 'Josip Stanisic', 'Niklas Sule', 'Benjamin Pavard', 'Javi Martinez', 'Jerome Boateng', 'Alphonso Davies', 'Lucas Hernandez', 'David Alaba', 'Lukas Mai', 'Chris Richards', 'Louis Poznanski', 'Ivan Mihaljevic', 'Jonas Kehl', 'Tobias Heiland', 'Jahn Herrmann', 'Marin Pudic', 'Leroy Sane', 'Malik Tillman', 'Marcel Zylla', 'Thiago Alcantara', 'Philippe Coutinho', 'Mickael Cuisance', 'Ivan Perisic', 'Leon Dajaku', 'Leon Goretzka', 'Corentin Tolisso', 'Sarpreet Singh', 'Joshua Kimmich', 'Oliver Batista Meier', 'Paul Will', 'Daniels Ontuzans', 'Maximilian Zaiser', 'Jamal Musiala', 'Angelo Stiller', 'Alexander Nollenberger', 'Robert Lewandowski', 'Jann-Fiete Arp', 'Serge Gnabry', 'Thomas Muller', 'Kingsley Coman', 'Joshua Zirkzee'], 'B Dortmund': ['Stefan Drljaca', 'Lucien Hawryluk', 'Roman Burki', 'Jonas Hupe', 'Luca Unbehaun', 'Marwin Hitz', 'Hendrik Bonmann', 'Eric Oelschlagel', 'Tim Bohmer', 'Nnamdi Collins', 'Maximilian Hippe', 'Emir Terzi', 'Mateu Morey', 'Dan-Axel Zagadou', 'Raphael Guerreiro', 'Nico Schulz', 'Mats Hummels', 'Manuel Akanji', 'Lucasz Piszczek', 'Marcel Schmelzer', 'Julian Schwermann', 'Tim Sechelmann', 'Joseph Boyamba', 'Kolbeinn Finnsson', 'Reda Khadra', 'Patrick Osterhage', 'Thomas Delaney', 'Mahmoud Dahoud', 'Mario Gotze', 'Thorgan Hazard', 'Sergio Gomez', 'Reinier', 'Jude Bellingham', 'Emre Can', 'Thomas Meunier', 'Axel Witsel', 'Immanuel Pherai', 'Giovanni Reyna', 'Chris Fuhrich', 'Taylan Duman', 'Tobias Raschl', 'Dominik Wanner', 'Jose Maria Relucio Gallego', 'Emre Aydinel', 'Alaa Bakir', 'Ansgar Knauff', 'Youssoufa Moukoko', 'Steffen Tigges', 'Jadon Sancho', 'Erling Braut Haland', 'Marco Reus', 'Julian Brandt', 'Marius Wolf', 'Gianluca Rizzo'], 'Arminia': ['Stefan Ortega Moreno', 'Michael Gurski', 'Agoston Kiss', 'Jarno Peters', 'Oscar Linner', 'Christopher Balkenhoff', 'Baboucarr Gaye', 'Philipp Klewin', 'Can Hayri Ozkan', 'Amos Pieper', 'Brian Behrendt', 'Joakim Nilsson', 'Jacob Laursen', 'Michael Gorlitz', 'Stephan Salger', 'Manuel Hornig', 'Jerome Propheter', 'Nathan de Medina', 'Anderson Lucoqui', 'Alex Perez', 'Cedric Brunner', 'Jonas Strifler', 'Allan Firmino Dantas', 'Oliver Petersch', 'David Ulm', 'Tom Schutz', 'Christian Gebauer', 'Patrick Weihrauch', 'Daniel Brinkmann', 'Reinhold Yabo', 'Fabian Kunze', 'Cebio Soukou', 'Manuel Prietl', 'Manuel Junglas', 'Nils Seufert', 'Peer Kluge', 'Marcel Hartel', 'Sebastian Hille', 'Keanu Staude', 'Jannis Wehmeier', 'Cerruti Siya', 'Jomaine Consbruch', 'Semir Ucar', 'Sergio Cordova', 'Fabian Klos', 'Chris Nothe', 'Sebastian Muller', 'Joan Edmundsson', 'Soren Brandy', 'Nils Quaschner', 'Andreas Voglsammer', 'Noel Niemann', 'Sven Schipplock', 'Cihan Bolat', 'Prince Osei Owusu']}\n",
            "2.14 seconds to run.\n"
          ],
          "name": "stdout"
        }
      ]
    },
    {
      "cell_type": "code",
      "metadata": {
        "id": "3EOvdzP1tIcm",
        "colab_type": "code",
        "colab": {}
      },
      "source": [
        "import re\n",
        "import pandas as pd\n",
        "def tournament_season_selector(soup):\n",
        "  df = pd.DataFrame(columns = [\"value\", \"date\"])\n",
        "  list = soup.find(\"select\", id = \"seasonSelect\")\n",
        "  for data in list.find_all(\"option\")[1:]:\n",
        "    df = df.append({\"value\": data[\"value\"], \"date\" : data.text}, ignore_index = True)\n",
        "  return df\n"
      ],
      "execution_count": null,
      "outputs": []
    }
  ]
}