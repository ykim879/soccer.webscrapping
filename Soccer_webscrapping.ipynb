{
  "nbformat": 4,
  "nbformat_minor": 0,
  "metadata": {
    "colab": {
      "name": "Soccer_webscrapping",
      "provenance": [],
      "include_colab_link": true
    },
    "kernelspec": {
      "name": "python3",
      "display_name": "Python 3"
    }
  },
  "cells": [
    {
      "cell_type": "markdown",
      "metadata": {
        "id": "view-in-github",
        "colab_type": "text"
      },
      "source": [
        "<a href=\"https://colab.research.google.com/github/ykim879/soccer.webscrapping/blob/master/Soccer_webscrapping.ipynb\" target=\"_parent\"><img src=\"https://colab.research.google.com/assets/colab-badge.svg\" alt=\"Open In Colab\"/></a>"
      ]
    },
    {
      "cell_type": "code",
      "metadata": {
        "id": "t3B83Y3mfK65",
        "colab_type": "code",
        "colab": {}
      },
      "source": [
        "import requests\n",
        "from bs4 import BeautifulSoup\n",
        "import re\n",
        "baseURL = 'https://www.soccerbase.com'"
      ],
      "execution_count": 66,
      "outputs": []
    },
    {
      "cell_type": "code",
      "metadata": {
        "id": "xOOU3GxcfWIr",
        "colab_type": "code",
        "colab": {
          "base_uri": "https://localhost:8080/",
          "height": 565
        },
        "outputId": "b1726618-3860-4708-8c74-625405169e36"
      },
      "source": [
        "request = requests.get(\"https://www.soccerbase.com/players/home.sd\")\n",
        "soup = BeautifulSoup(request.content, \"lxml\")\n",
        "testing = soup.find('div', id = 'players-menu')#attrs = {'class': 'soccerColumn soccerColumnLast'})\n",
        "for div in testing.find_all('div', class_ = 'soccerColumn'):\n",
        "  if (re.search('Competition', div.text) != None):\n",
        "    comp = div\n",
        "threads = []\n",
        "for num, competition in enumerate(comp.find_all('a'), 1):\n",
        "  t = threading.Thread()\n",
        "  print(num, competition['href'])\n",
        "#for li in testing.find_all('ol'):\n",
        "#  print(li)"
      ],
      "execution_count": 82,
      "outputs": [
        {
          "output_type": "stream",
          "text": [
            "<div class=\"soccerColumn\"><div class=\"headlineBlock\"><h2>Competition</h2></div><ol class=\"infoList infoListToggle\"><li><a href=\"/tournaments/tournament.sd?comp_id=1\">Premier League</a></li><li class=\"alt\"><a href=\"/tournaments/tournament.sd?comp_id=2\">Championship</a></li><li><a href=\"/tournaments/tournament.sd?comp_id=3\">League One</a></li><li class=\"alt\"><a href=\"/tournaments/tournament.sd?comp_id=4\">League Two</a></li></ol><ol class=\"infoList infoListToggle hide\"><li><a href=\"/tournaments/tournament.sd?comp_id=12\">Scottish Premier</a></li><li class=\"alt\"><a href=\"/tournaments/tournament.sd?comp_id=13\">Scottish Championship</a></li><li><a href=\"/tournaments/tournament.sd?comp_id=14\">Scottish League One</a></li><li class=\"alt\"><a href=\"/tournaments/tournament.sd?comp_id=15\">Scottish League Two</a></li></ol><ol class=\"infoList infoListToggle hide\"><li><a href=\"/tournaments/tournament.sd?comp_id=66\">Champions League</a></li><li class=\"alt\"><a href=\"/tournaments/tournament.sd?comp_id=64\">Europa League</a></li></ol><ol class=\"infoList infoListToggle hide\"><li><a href=\"/tournaments/tournament.sd?comp_id=19\">Serie A</a></li><li class=\"alt\"><a href=\"/tournaments/tournament.sd?comp_id=20\">Bundesliga</a></li><li><a href=\"/tournaments/tournament.sd?comp_id=21\">La Liga</a></li><li class=\"alt\"><a href=\"/tournaments/tournament.sd?comp_id=22\">Ligue 1</a></li><li><a href=\"/tournaments/tournament.sd?comp_id=116\">Austrian League</a></li><li class=\"alt\"><a href=\"/tournaments/tournament.sd?comp_id=25\">Belgian Division 1</a></li><li><a href=\"/tournaments/tournament.sd?comp_id=112\">Danish SAS Ligaen</a></li><li class=\"alt\"><a href=\"/tournaments/tournament.sd?comp_id=23\">Dutch Eredivisie</a></li><li><a href=\"/tournaments/tournament.sd?comp_id=114\">Greek League</a></li><li class=\"alt\"><a href=\"/tournaments/tournament.sd?comp_id=76\">League of Ireland</a></li><li><a href=\"/tournaments/tournament.sd?comp_id=206\">Norwegian Tippeligaen</a></li><li class=\"alt\"><a href=\"/tournaments/tournament.sd?comp_id=124\">Polish League</a></li><li><a href=\"/tournaments/tournament.sd?comp_id=24\">Portuguese Liga</a></li><li class=\"alt\"><a href=\"/tournaments/tournament.sd?comp_id=111\">Russian League</a></li><li><a href=\"/tournaments/tournament.sd?comp_id=194\">Spanish Segunda Division</a></li><li class=\"alt\"><a href=\"/tournaments/tournament.sd?comp_id=205\">Swedish Allsvenskan</a></li><li><a href=\"/tournaments/tournament.sd?comp_id=122\">Swiss League</a></li><li class=\"alt\"><a href=\"/tournaments/tournament.sd?comp_id=113\">Turkish League</a></li></ol></div>\n",
            "1 /tournaments/tournament.sd?comp_id=1\n",
            "2 /tournaments/tournament.sd?comp_id=2\n",
            "3 /tournaments/tournament.sd?comp_id=3\n",
            "4 /tournaments/tournament.sd?comp_id=4\n",
            "5 /tournaments/tournament.sd?comp_id=12\n",
            "6 /tournaments/tournament.sd?comp_id=13\n",
            "7 /tournaments/tournament.sd?comp_id=14\n",
            "8 /tournaments/tournament.sd?comp_id=15\n",
            "9 /tournaments/tournament.sd?comp_id=66\n",
            "10 /tournaments/tournament.sd?comp_id=64\n",
            "11 /tournaments/tournament.sd?comp_id=19\n",
            "12 /tournaments/tournament.sd?comp_id=20\n",
            "13 /tournaments/tournament.sd?comp_id=21\n",
            "14 /tournaments/tournament.sd?comp_id=22\n",
            "15 /tournaments/tournament.sd?comp_id=116\n",
            "16 /tournaments/tournament.sd?comp_id=25\n",
            "17 /tournaments/tournament.sd?comp_id=112\n",
            "18 /tournaments/tournament.sd?comp_id=23\n",
            "19 /tournaments/tournament.sd?comp_id=114\n",
            "20 /tournaments/tournament.sd?comp_id=76\n",
            "21 /tournaments/tournament.sd?comp_id=206\n",
            "22 /tournaments/tournament.sd?comp_id=124\n",
            "23 /tournaments/tournament.sd?comp_id=24\n",
            "24 /tournaments/tournament.sd?comp_id=111\n",
            "25 /tournaments/tournament.sd?comp_id=194\n",
            "26 /tournaments/tournament.sd?comp_id=205\n",
            "27 /tournaments/tournament.sd?comp_id=122\n",
            "28 /tournaments/tournament.sd?comp_id=113\n"
          ],
          "name": "stdout"
        }
      ]
    },
    {
      "cell_type": "code",
      "metadata": {
        "id": "BrC27b6bsLv4",
        "colab_type": "code",
        "colab": {}
      },
      "source": [
        "#Decorator hopefully\n",
        "import time\n",
        "def timer(func):\n",
        "  def timeIt(*args, **kwargs):\n",
        "    start = time.time()\n",
        "    func(*args, **kwargs)\n",
        "    print(f'{time.time() - start:0.2f}', 'seconds to run.')\n",
        "  return timeIt"
      ],
      "execution_count": 46,
      "outputs": []
    },
    {
      "cell_type": "code",
      "metadata": {
        "id": "sFctYk2ikh12",
        "colab_type": "code",
        "colab": {}
      },
      "source": [
        "#From player page for a team\n",
        "def getTeamData(team, url, q):\n",
        "  names = [team]\n",
        "  request = requests.get(url)\n",
        "  soup = BeautifulSoup(request.content, \"lxml\")\n",
        "  test = soup.find('ul', attrs={'class':'infoList infoListBullet infoListLeftPadding infoListRightPadding'})\n",
        "  for elem in test.find_all('b'):\n",
        "    name = elem.find('a')\n",
        "    names.append(name.text)\n",
        "  #return names\n",
        "  q.put(names)"
      ],
      "execution_count": 37,
      "outputs": []
    },
    {
      "cell_type": "code",
      "metadata": {
        "id": "TtEvSKy5mch4",
        "colab_type": "code",
        "colab": {}
      },
      "source": [
        "#From competition page of teams\n",
        "import threading\n",
        "import queue\n",
        "@timer\n",
        "def readCompetitionPage(compURL):\n",
        "  request = requests.get(compURL)\n",
        "  soup = BeautifulSoup(request.content, \"lxml\")\n",
        "  teamNames = soup.find('table', class_ = 'table')\n",
        "  teams = {}\n",
        "  threads = []\n",
        "  q = queue.Queue()\n",
        "\n",
        "  for num, url in enumerate(teamNames.find_all('a'), 1):\n",
        "    #print(num, url['href'])\n",
        "    t = threading.Thread(target = getTeamData, args = (url.text, baseURL + url['href'], q))\n",
        "    threads.append(t)\n",
        "    t.start()\n",
        "    #print(url.text)\n",
        "    #getTeamData(url.text, baseURL+url['href'], q)\n",
        "    #print(getTeamData(baseURL + url['href']))\n",
        "  #print(num)\n",
        "  for t in threads:\n",
        "    t.join()\n",
        "  while not q.empty():\n",
        "    teamData = q.get()\n",
        "    teams[teamData[0]] = teamData[1:]\n",
        "\n",
        "  print(teams)\n",
        "  '''\n",
        "  for team, players in teams.items():\n",
        "    print(\"TEAM:\", team, end = '\\nPLAYERS: ')\n",
        "    print(*players, sep=', ')\n",
        "    print()\n",
        "'''"
      ],
      "execution_count": 83,
      "outputs": []
    },
    {
      "cell_type": "code",
      "metadata": {
        "id": "NzNRum7SpIT1",
        "colab_type": "code",
        "colab": {
          "base_uri": "https://localhost:8080/",
          "height": 74
        },
        "outputId": "4b6d04b8-38b0-4719-9b9e-5a7c22fc48a8"
      },
      "source": [
        "readCompetitionPage('https://www.soccerbase.com/tournaments/tournament.sd?comp_id=20')"
      ],
      "execution_count": 85,
      "outputs": [
        {
          "output_type": "stream",
          "text": [
            "{'B Leverkusen': ['Lukas Hradecky', 'Lennart Grill', 'Ramazan Ozcan', 'Niklas Lomb', 'Tomasz Kucz', 'Panagiotis Retsos', 'Jonathan Tah', 'Sven Bender', 'Aleksandar Dragovic', 'Lars Bender', 'Edmond Faycial Tapsoba', 'Tin Jedvaj', 'Wendell', 'Daley Sinkgraven', 'Mitchell Weiser', 'Jan Boller', 'Fabian Ruth', 'Kerem Demirbay', 'Nadiem Amiri', 'Julian Baumgartlinger', 'Charles Aranguiz', 'Exequiel Palacios', 'Florian Wirtz', 'Kai Havertz', 'Adrian Stanilewicz', 'Ayman Azhil', 'Herdi Bukusu', 'Paulinho', 'Leon Bailey', 'Lucas Alario', 'Joel Pohjanpalo', 'Moussa Diaby', 'Kevin Volland', 'Karim Bellarabi', 'Florian Wirtz'], 'Wolfsburg': ['Koen Casteels', 'Pavao Pervan', 'Niklas Klinger', 'Lino Kasten', 'Phillip Menzel', 'Michael Edwards', 'William', 'Jeffrey Bruma', 'Paulo Otavio', 'Jerome Roussillon', 'Kevin Mbabu', 'John Brooks', 'Marcel Tisserand', 'Marin Pongracic', 'Tim Siersleben', 'Ignacio Camacho', 'Renato Steffen', 'Yanus Malli', 'Felix Klaus', 'Admir Mehmedi', 'Luca Horn', 'Josua Guilavogui', 'Xaver Schlager', 'Ulysses Llanez Jr', 'Maximilian Arnold', 'Yannick Gerhardt', 'Ismail Azzaoui', 'Joao Victor Santos Sa', 'Julian Justvan', 'Iba May', 'Bartosz Bialek', 'Josip Brekalo', 'Wout Weghorst', 'John Yeboah', 'Omar Marmoush', 'Daniel Ginczek'], 'E Frankfurt': ['Kevin Trapp', 'Felix Wiedwald', 'Frederik Ronnow', 'Jan Zimmermann', 'Elias Bordner', 'Obite Ndicka', 'Martin Hinteregger', 'Jetro Willems', 'Almamy Toure', 'David Abraham', 'Makoto Hasebe', 'Marco Russ', 'Danny da Costa', 'Erik Durm', 'Yannick Brugger', 'Rodrigo Zalazar', 'Stefan Ilsanker', 'Gelson Fernandes', 'Jonathan de Guzman', 'Djibril Sow', 'Filip Kostic', 'Steven Zuber', 'Daichi Kamada', 'Sebastian Rode', 'Timothy Chandler', 'Nils Stendera', 'Aymane Barkok', 'Dominik Kohr', 'Sahverdi Cetin', 'Lukas Fahrnberger', 'Patrick Finger', 'Marijan Cavar', 'Dejan Joveljic', 'Bas Dost', 'Ragnar Ache', 'Andre Silva', 'Jabez Maleko', 'Goncalo Paciencia'], 'RB Leipzig': ['Josep Martinez', 'Peter Gulacsi', 'Yvon Mvogo', 'Tim Schreiber', 'Philipp Tschauner', 'Angelino', 'Benjamin Henrichs', 'Willi Orban', 'Dayot Upamecano', 'Ibrahima Konate', 'Lukas Klostermann', 'Nordi Mukiele', 'Marcel Halstenberg', 'Luan Candido', 'Mads Bidstrup', 'Eric Martel', 'Marcel Sabitzer', 'Amadou Haidara', 'Tyler Adams', 'Christopher Nkunku', 'Dani Olmo', 'Ethan Ampadu', 'Konrad Laimer', 'Fabrice Hartmann', 'Kevin Kampl', 'Joscha Wosz', 'Tom Krauss', 'Hee-Chan Hwang', 'Yussuf Poulsen', 'Emil Forsberg', 'Patrik Schick', 'Ademola Lookman', 'Jean-Kevin Augustin', 'Hugo Novoa', 'Dennis Borkowski'], 'B Dortmund': ['Stefan Drljaca', 'Lucien Hawryluk', 'Roman Burki', 'Jonas Hupe', 'Luca Unbehaun', 'Marwin Hitz', 'Hendrik Bonmann', 'Eric Oelschlagel', 'Tim Bohmer', 'Nnamdi Collins', 'Maximilian Hippe', 'Emir Terzi', 'Mateu Morey', 'Dan-Axel Zagadou', 'Raphael Guerreiro', 'Nico Schulz', 'Mats Hummels', 'Manuel Akanji', 'Lucasz Piszczek', 'Marcel Schmelzer', 'Julian Schwermann', 'Tim Sechelmann', 'Joseph Boyamba', 'Kolbeinn Finnsson', 'Reda Khadra', 'Patrick Osterhage', 'Thomas Delaney', 'Mahmoud Dahoud', 'Mario Gotze', 'Thorgan Hazard', 'Sergio Gomez', 'Reinier', 'Jude Bellingham', 'Emre Can', 'Thomas Meunier', 'Axel Witsel', 'Immanuel Pherai', 'Giovanni Reyna', 'Chris Fuhrich', 'Taylan Duman', 'Tobias Raschl', 'Dominik Wanner', 'Jose Maria Relucio Gallego', 'Emre Aydinel', 'Alaa Bakir', 'Ansgar Knauff', 'Youssoufa Moukoko', 'Steffen Tigges', 'Jadon Sancho', 'Erling Braut Haland', 'Marco Reus', 'Julian Brandt', 'Marius Wolf', 'Gianluca Rizzo'], 'Schalke': ['Ralf Fahrmann', 'Markus Schubert', 'Michael Langer', 'Pablo Insua', 'Hamza Mendyl', 'Juan Miranda', 'Ozan Kabak', 'Matija Nastasic', 'Benjamin Stambouli', 'Sascha Riether', 'Jean-Clair Todibo', 'Bastian Oczipka', 'Salif Sane', 'Timo Becker', 'Malick Thiaw', 'Jason Ceka', 'Berkan Firat', 'Sandro Plechaty', 'Weston McKennie', 'Omar Mascarell', 'Suat Serdar', 'Nabil Bentaleb', 'Sebastian Rudy', 'Nassim Boujellab', 'Amine Harit', 'Alessandro Schopf', 'Nick Taitague', 'Munir Mercan', 'Can Bozdogan', 'Jonas Hofmann', 'Mark Uth', 'Benito Raman', 'Rabbi Matondo', 'Ahmed Kutucu', 'Guido Burgstaller', 'Steven Skrzybski'], 'Cologne': ['Timo Horn', 'Ron-Robert Zieler', 'Thomas Kessler', 'Julian Krahl', 'Sven Bacher', 'Joao Queiros', 'Benno Schmitz', 'Rafael Czichos', 'Dominic Maroh', 'Ismail Jakobs', 'Jonas Hector', 'Kingsley Ehizibue', 'Jorge Mere', 'James Horn', 'Sebastiaan Bornauw', 'Noah Katterbach', 'Robert Voloder', 'Jens Castrop', 'Marco Hoger', 'Marcel Risse', 'Kingsley Schindler', 'Christian Clemens', 'Elvis Rexhbecaj', 'Vincent Koziello', 'Salih Ozcan', 'Dominick Drexler', 'Tim Lemperle', 'Ellyes Skhiri', 'Jan Thielmann', 'Florian Kainz', 'Matthias Lehmann', 'Artjoms Rudnevs', 'Simon Terodde', 'Louis Schaub', 'Jhon Cordoba', 'Anthony Modeste'], 'B Munich': ['Alexander Nubel', 'Manuel Neuer', 'Sven Ulreich', 'Christian Fruchtl', 'Ron Thorben Hoffmann', 'Alvaro Odriozola', 'Bright Arrey-Mbi', 'Nianzou Kouassi', 'Angelo Mayer', 'Alexander Nitzl', 'Josip Stanisic', 'Niklas Sule', 'Benjamin Pavard', 'Javi Martinez', 'Jerome Boateng', 'Alphonso Davies', 'Lucas Hernandez', 'David Alaba', 'Lukas Mai', 'Chris Richards', 'Louis Poznanski', 'Ivan Mihaljevic', 'Jonas Kehl', 'Tobias Heiland', 'Jahn Herrmann', 'Marin Pudic', 'Leroy Sane', 'Malik Tillman', 'Marcel Zylla', 'Thiago Alcantara', 'Philippe Coutinho', 'Mickael Cuisance', 'Ivan Perisic', 'Leon Dajaku', 'Leon Goretzka', 'Corentin Tolisso', 'Sarpreet Singh', 'Joshua Kimmich', 'Oliver Batista Meier', 'Paul Will', 'Daniels Ontuzans', 'Maximilian Zaiser', 'Jamal Musiala', 'Angelo Stiller', 'Alexander Nollenberger', 'Robert Lewandowski', 'Jann-Fiete Arp', 'Serge Gnabry', 'Thomas Muller', 'Kingsley Coman', 'Joshua Zirkzee'], 'Arminia': ['Stefan Ortega Moreno', 'Michael Gurski', 'Agoston Kiss', 'Jarno Peters', 'Oscar Linner', 'Christopher Balkenhoff', 'Baboucarr Gaye', 'Philipp Klewin', 'Can Hayri Ozkan', 'Amos Pieper', 'Brian Behrendt', 'Joakim Nilsson', 'Jacob Laursen', 'Michael Gorlitz', 'Stephan Salger', 'Manuel Hornig', 'Jerome Propheter', 'Nathan de Medina', 'Anderson Lucoqui', 'Alex Perez', 'Cedric Brunner', 'Jonas Strifler', 'Allan Firmino Dantas', 'Oliver Petersch', 'David Ulm', 'Tom Schutz', 'Christian Gebauer', 'Patrick Weihrauch', 'Daniel Brinkmann', 'Reinhold Yabo', 'Fabian Kunze', 'Cebio Soukou', 'Manuel Prietl', 'Manuel Junglas', 'Nils Seufert', 'Peer Kluge', 'Marcel Hartel', 'Sebastian Hille', 'Keanu Staude', 'Jannis Wehmeier', 'Cerruti Siya', 'Jomaine Consbruch', 'Semir Ucar', 'Sergio Cordova', 'Fabian Klos', 'Chris Nothe', 'Sebastian Muller', 'Joan Edmundsson', 'Soren Brandy', 'Nils Quaschner', 'Andreas Voglsammer', 'Noel Niemann', 'Sven Schipplock', 'Cihan Bolat', 'Prince Osei Owusu'], 'Mainz': ['Florian Muller', 'Robin Zentner', 'Omer Hanin', 'Finn Dahmen', 'Marius Liesegang', 'Aaron Martin', 'Jeremiah St. Juste', 'Dimitri Lavelee', 'Luca Kilian', 'Stefan Bell', 'Jonathan Meier', 'Daniel Brosinski', 'Moussa Niakhate', 'Philipp Mwene', 'Ahmet Gurleyen', 'Niklas Kolle', 'Alexander Hack', 'Jean-Paul Boetius', 'Danny Latza', 'Levin Oztunali', 'Alexandru Maxim', 'Pierre Malong', 'Edimilson Fernandes', 'Bote Baku', 'Leandro Barreiro Martins', 'Erkan Eyibil', 'Gerrit Holtmann', 'Robin Quaison', 'Jean-Philippe Mateta', 'Ji Dong-Won', 'Karim Onisiwo', 'Issah Abass', 'Adam Szalai', 'Jonathan Burkardt', 'Jonathan Burkhardt', 'Cyrill Akono', 'Aaron Seydel'], 'Augsburg': ['Rafal Gikiewicz', 'Fabian Giefer', 'Tomas Koubek', 'Benjamin Leneis', 'Stefan Lichtsteiner', 'Mads Pedersen', 'Felix Gotze', 'Marek Suchy', 'Jeffrey Gouweleeuw', 'Jozo Stanic', 'Felix Uduokhai', 'Iago', 'Simon Asta', 'Philipp Max', 'Raphael Framberger', 'Kevin Danso', 'Tim Civeja', 'Rani Khedira', 'Daniel Baier', 'Jan Moravek', 'Ruben Vargas', 'Noah Joel Sarenren Bazee', 'Daniel Caligiuri', 'Marco Richter', 'Fredrik Jensen', 'Carlos Gruezo', 'Andre Hahn', 'Felix Schwarzholz', 'Tobias Strobl', 'Georg Teigl', 'Reece Oxford', 'Stefano Russo', 'Dorian Cevis', 'Romario Rosch', 'Florian Niederlechner', 'Michael Gregoritsch', 'Julian Schieber', 'Alfred Finnbogason', 'Seong-Hoon Cheon', 'Maurice Malone'], 'Hoffenheim': ['Domen Gril', 'Oliver Baumann', 'Philipp Pentke', 'Michael Esser', 'Alexander Stolz', 'Luca Philipp', 'Joshua Brenet', 'Pavel Kaderabek', 'Ermin Bicakcic', 'Kostas Stafylidis', 'Havard Nordtveit', 'Kasim Adams', 'Benjamin Hubner', 'Kevin Vogt', 'Kevin Akpoguma', 'Lucas Ribeiro', 'Melayro Bogarde', 'Stefan Posch', 'Amid Khan Agha', 'Bruno Nazario', 'Lukas Rupp', 'Dennis Geiger', 'Florian Grillitsch', 'Christoph Baumgartner', 'Diadie Samassekou', 'Mijat Gacinovic', 'Ilay Eliyau Elmkies', 'Franko Kovacevic', 'Jacob Bruun Larsen', 'Ihlas Bebou', 'Munas Dabour', 'Ishak Belfodil', 'Sargis Adamyan', 'Andrej Kramaric', 'Robert Skov', 'Klauss', 'Maximilian Beier', 'Chinedu Ekene'], 'Union Berlin': ['Leo Oppermann', 'Andreas Luthe', 'Jakub Busk Jensen', 'Lennart Moser', 'Moritz Nicolas', 'Robin Knoche', 'Neven Subotic', 'Nico Schlotterbeck', 'Marvin Friedrich', 'Julian Ryerson', 'Ken Reichel', 'Nicolai Rapp', 'Florian Hubner', 'Niko Giebelmann', 'Christopher Lenz', 'Lars Dietz', 'Lennard Maloney', 'Keita Endo', 'Akaki Gogia', 'Joshua Mees', 'Laurenz Dehl', 'Florian Flecker', 'Grischa Promel', 'Felix Kroos', 'Manuel Schmiedebach', 'Julius Kade', 'Michael Parensen', 'Robert Andrich', 'Berkan Taz', 'Sebastian Griesbeck', 'Christian Gentner', 'Maurice Opfermann', 'Sebastian Andersson', 'Max Kruse', 'Anthony Ujah', 'Marius Bulter', 'Suleiman Abdullahi', 'Sheraldo Becker', 'Christopher Trimmel', 'Marcus Ingvartsen', 'Cedric Teuchert'], 'Stuttgart': ['Gregor Kobel', 'Jens Grahl', 'Fabian Bredlow', 'Waldemar Anton', 'Marc-Oliver Kempf', 'Konstantinos Mavropanos', 'Pascal Stenzel', 'Maxime Awoudja', 'Borna Sosa', 'Antonis Aidonis', 'Holger Badstuber', 'Ailton Ferreira', 'Marcin Kaminski', 'Luca Mack', 'David Grozinger', 'Tobias Werner', 'Wataru Endo', 'Clinton Mola', 'Tanguy Coulibaly', 'Gonzalo Castro', 'Daniel Didavi', 'Erik Thommy', 'Atakan Karazor', 'Darko Churlinov', 'Philipp Forster', 'Philipp Klement', 'Orel Mangala', 'Lilian Egloff', 'Alkhaly Momo Cisse', 'Joel Sonora', 'Roberto Massimo', 'Mateo Klimowicz', 'Sasa Kalajdzic', 'Silas Wamangituka Fundu', 'Hamadi Al Ghaddioui', 'Nicolas Gonzalez', 'Mario Gomez'], \"B M'gladbach\": ['Yann Sommer', 'Tobias Sippel', 'Max Grun', 'Jan Olschowsky', 'Michael Lang', 'Mamadou Doucoure', 'Oscar Wendt', 'Stefan Lainer', 'Tony Jantschke', 'Rami Bensebaini', 'Matthias Ginter', 'Nico Elvedi', 'Kaan Kurt', 'Andreas Poulsen', 'Jacob Italiano', 'Christoph Kramer', 'Denis Zakaria', 'Hannes Wolf', 'Lars Stindl', 'Fabian Johnson', 'Valentino Lazaro', 'Laszlo Benes', 'Jonas Hofmann', 'Torben Musel', 'Famana Quizera', 'Florian Neuhaus', 'Conor Noss', 'Aaron Herzog', 'Patrick Herrmann', 'Marcus Thuram', 'Raffael', 'Alassane Plea', 'Ibrahima Traore', 'Julio Villalba', 'Breel Embolo', 'Keanan Bennetts'], 'W Bremen': ['Jiri Pavlenka', 'Stephanos Kapinos', 'Luca Plogmann', 'Ludwig Augustinsson', 'Milos Veljkovic', 'Sebastian Langkamp', 'Felix Agu', 'Niklas Moisander', 'Omer Toprak', 'Theo Gebre Selassie', 'Marco Friedl', 'Christian Gross', 'Thore Jacobsen', 'Niklas Wiemann', 'Tahith Chong', 'Johan Mina', 'Oscar Schonfelder', 'Kevin Mohwald', 'Milot Rashica', 'Leonardo Bittencourt', 'Ole Kauper', 'Nuri Sahin', 'Romano Schmid', 'Simon Straudi', 'Ilia Gruev', 'Patrick Erras', 'Davy Klaassen', 'David Philipp', 'Julian Rieckmann', 'Jean Manuel Mbom', 'Maximilian Eggestein', 'Niklas Schmidt', 'Philipp Bargfrede', 'Yuya Osako', 'Martin Harnik', 'Davie Selke', 'Niclas Fullkrug', 'Claudio Pizarro', 'Joshua Sargent', 'Johannes Eggestein', 'Luc Ihorst', 'Nick Woltemade'], 'Freiburg': ['Benjamin Uphoff', 'Mark Flekken', 'Niclas Thiede', 'Philipp Lienhart', 'Manuel Gulde', 'Lukas Kubler', 'Mohamed Drager', 'Dominique Heintz', 'Gian-Luca Itter', 'Robin Koch', 'Christian Gunter', 'Keven Schlotterbeck', 'Jerome Gondorf', 'Amir Abrashi', 'Jonathan Schmid', 'Mike Frantz', 'Yoric Ravet', 'Janik Haberer', 'Brandon Borrello', 'Roland Sallai', 'Nicolas Hofler', 'Kwon Chang-Hoon', 'Jeong Woo-Yeong', 'Vicenzo Grifo', 'Lino Tempelmann', 'Yannik Keitel', 'Florian Kath', 'Fabian Rudlin', 'Lucas Holer', 'Ermedin Demirovic', 'Luca Waldschmidt', 'Marco Terrazzino', 'Nils Petersen'], 'Hertha Berlin': ['Thomas Kraft', 'Alexander Schwolow', 'Nils-Jonathan Korber', 'Rune Jarstein', 'Luis Klatte', 'Florian Palmowski', 'Peter Pekarik', 'Karim Rekik', 'Niklas Stark', 'Lukas Klunter', 'Maximilian Mittelstadt', 'Dedryck Boyata', 'Marvin Plattenhardt', 'Jordan Torunarigha', 'Marton Dardai', 'Luca Netz', 'Omar Rekik', 'Florian Baak', 'Deyovaisio Zeefuik', 'Vladimir Darida', 'Salomon Kalou', 'Alexander Esswein', 'Ondrej Duda', 'Matthew Leckie', 'Javairo Dilrosun', 'Santiago Ascacibar', 'Arne Maier', 'Eduard Lowen', 'Lucas Tousart', 'Maurice Covic', 'Julian Albrecht', 'Lazar Samardzic', 'Krzysztof Piatek', 'Matheus Cunha', 'Pascal Kopke', 'Vedad Ibisevic', 'Pal Dardai', 'Jessic Ngankam', 'Dodi Lukebakio', 'Daishawn Redan', 'Muhammed Kiprit']}\n",
            "6.41 seconds to run.\n"
          ],
          "name": "stdout"
        }
      ]
    },
    {
      "cell_type": "code",
      "metadata": {
        "id": "3EOvdzP1tIcm",
        "colab_type": "code",
        "colab": {}
      },
      "source": [
        ""
      ],
      "execution_count": null,
      "outputs": []
    }
  ]
}